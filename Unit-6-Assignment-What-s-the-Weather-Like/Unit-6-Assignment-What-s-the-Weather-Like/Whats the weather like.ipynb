{
 "cells": [
  {
   "cell_type": "code",
   "execution_count": 21,
   "metadata": {},
   "outputs": [],
   "source": [
    "# Dependencies\n",
    "import urllib\n",
    "import json\n",
    "import requests\n",
    "import pandas as pd\n",
    "import matplotlib.pyplot as plt\n",
    "import config\n",
    "import citipy"
   ]
  },
  {
   "cell_type": "code",
   "execution_count": 22,
   "metadata": {},
   "outputs": [],
   "source": [
    "city_list = pd.DataFrame()\n",
    "\n",
    "for i in range(600):\n",
    "    lat=(random()-.5)*randint(-180,180)\n",
    "    lon=(random()-.5)*randint(-360,360)\n",
    "    coords=pd.DataFrame([[lat,lon]], columns=['lat','lon'])\n",
    "    city_list=city_list.append(coords)\n",
    "    \n",
    "    \n",
    "city_list=city_list.reset_index()\n",
    "city_list=city_list[['lat','lon']]"
   ]
  },
  {
   "cell_type": "code",
   "execution_count": null,
   "metadata": {},
   "outputs": [],
   "source": [
    "#Use Citipy to find the nearest city to each pair of latlongs\n",
    "\n",
    "for row in range(0,len(city_list)):\n",
    "    #print(city_list.loc[row]['lat'])\n",
    "    lat = city_list.loc[row]['lat']\n",
    "    lon = city_list.loc[row]['lon']    \n",
    "    city = citipy.nearest_city(lat,lon)\n",
    "    city_list.set_value(row, \"city\", city.city_name.title())\n",
    "    city_list.set_value(row, \"country\", city.country_code.upper())"
   ]
  },
  {
   "cell_type": "code",
   "execution_count": null,
   "metadata": {},
   "outputs": [],
   "source": []
  }
 ],
 "metadata": {
  "kernelspec": {
   "display_name": "Python 3",
   "language": "python",
   "name": "python3"
  },
  "language_info": {
   "codemirror_mode": {
    "name": "ipython",
    "version": 3
   },
   "file_extension": ".py",
   "mimetype": "text/x-python",
   "name": "python",
   "nbconvert_exporter": "python",
   "pygments_lexer": "ipython3",
   "version": "3.7.0"
  }
 },
 "nbformat": 4,
 "nbformat_minor": 2
}
